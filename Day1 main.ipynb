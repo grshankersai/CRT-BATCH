{
 "cells": [
  {
   "cell_type": "code",
   "execution_count": 0,
   "metadata": {
    "colab": {
     "base_uri": "https://localhost:8080/",
     "height": 34
    },
    "colab_type": "code",
    "executionInfo": {
     "elapsed": 2947,
     "status": "ok",
     "timestamp": 1577159522463,
     "user": {
      "displayName": "G R Shanker Sai",
      "photoUrl": "https://lh4.googleusercontent.com/-_i6PcPXVm0o/AAAAAAAAAAI/AAAAAAAAS5I/izlyUWUxPcU/s64/photo.jpg",
      "userId": "03167456555271264625"
     },
     "user_tz": -330
    },
    "id": "fR6LtFi5B59Q",
    "outputId": "364b7cad-3a2e-4566-a18f-92ba830f6468"
   },
   "outputs": [
    {
     "name": "stdout",
     "output_type": "stream",
     "text": [
      "Hello world\n"
     ]
    }
   ],
   "source": [
    "print(\"Hello world\")"
   ]
  },
  {
   "cell_type": "markdown",
   "metadata": {
    "colab_type": "text",
    "id": "rOISZU6sDh8u"
   },
   "source": [
    "# python\n",
    "## python\n",
    "### python\n",
    "#### python\n",
    "##### python\n"
   ]
  },
  {
   "cell_type": "code",
   "execution_count": 0,
   "metadata": {
    "colab": {
     "base_uri": "https://localhost:8080/",
     "height": 34
    },
    "colab_type": "code",
    "executionInfo": {
     "elapsed": 15,
     "status": "ok",
     "timestamp": 1577160501673,
     "user": {
      "displayName": "G R Shanker Sai",
      "photoUrl": "https://lh4.googleusercontent.com/-_i6PcPXVm0o/AAAAAAAAAAI/AAAAAAAAS5I/izlyUWUxPcU/s64/photo.jpg",
      "userId": "03167456555271264625"
     },
     "user_tz": -330
    },
    "id": "8jUuaWhDFMxf",
    "outputId": "3494afa5-3179-4a51-a901-c7baf80adddc"
   },
   "outputs": [
    {
     "name": "stdout",
     "output_type": "stream",
     "text": [
      "Gitam\tGitam "
     ]
    }
   ],
   "source": [
    "print(\"Gitam\",end=\"\\t\")\n",
    "print(\"Gitam\",end=\" \")"
   ]
  },
  {
   "cell_type": "markdown",
   "metadata": {
    "colab_type": "text",
    "id": "71FQLMumGQKo"
   },
   "source": [
    "# Variables\n",
    "## also called identifiers\n",
    "### to store some value and allocate some memory\n",
    "# Naming Rules::\n",
    "### it always starts with alphabet , cannot start with digit.\n",
    "### it can start with \"_\",but no special chars are allowed as variables.\n",
    "### keywords cannot be used as variables.\n",
    "\n",
    "\n"
   ]
  },
  {
   "cell_type": "code",
   "execution_count": 0,
   "metadata": {
    "colab": {
     "base_uri": "https://localhost:8080/",
     "height": 50
    },
    "colab_type": "code",
    "executionInfo": {
     "elapsed": 1571,
     "status": "ok",
     "timestamp": 1577160916173,
     "user": {
      "displayName": "G R Shanker Sai",
      "photoUrl": "https://lh4.googleusercontent.com/-_i6PcPXVm0o/AAAAAAAAAAI/AAAAAAAAS5I/izlyUWUxPcU/s64/photo.jpg",
      "userId": "03167456555271264625"
     },
     "user_tz": -330
    },
    "id": "VDFgdaC4GTRt",
    "outputId": "0b5b17f0-c297-4103-960f-5ad1027b31fd"
   },
   "outputs": [
    {
     "name": "stdout",
     "output_type": "stream",
     "text": [
      "10\n"
     ]
    },
    {
     "data": {
      "text/plain": [
       "20"
      ]
     },
     "execution_count": 6,
     "metadata": {
      "tags": []
     },
     "output_type": "execute_result"
    }
   ],
   "source": [
    "a = 10\n",
    "print(a)\n",
    "a*2"
   ]
  },
  {
   "cell_type": "code",
   "execution_count": 0,
   "metadata": {
    "colab": {
     "base_uri": "https://localhost:8080/",
     "height": 34
    },
    "colab_type": "code",
    "executionInfo": {
     "elapsed": 1378,
     "status": "ok",
     "timestamp": 1577161209678,
     "user": {
      "displayName": "G R Shanker Sai",
      "photoUrl": "https://lh4.googleusercontent.com/-_i6PcPXVm0o/AAAAAAAAAAI/AAAAAAAAS5I/izlyUWUxPcU/s64/photo.jpg",
      "userId": "03167456555271264625"
     },
     "user_tz": -330
    },
    "id": "oMGraCtsHcQ2",
    "outputId": "1b238dbe-a361-4e5b-992e-aef52d792ef6"
   },
   "outputs": [
    {
     "data": {
      "text/plain": [
       "30"
      ]
     },
     "execution_count": 7,
     "metadata": {
      "tags": []
     },
     "output_type": "execute_result"
    }
   ],
   "source": [
    "b=20\n",
    "a+b\n"
   ]
  },
  {
   "cell_type": "code",
   "execution_count": 0,
   "metadata": {
    "colab": {
     "base_uri": "https://localhost:8080/",
     "height": 34
    },
    "colab_type": "code",
    "executionInfo": {
     "elapsed": 1198,
     "status": "ok",
     "timestamp": 1577161456018,
     "user": {
      "displayName": "G R Shanker Sai",
      "photoUrl": "https://lh4.googleusercontent.com/-_i6PcPXVm0o/AAAAAAAAAAI/AAAAAAAAS5I/izlyUWUxPcU/s64/photo.jpg",
      "userId": "03167456555271264625"
     },
     "user_tz": -330
    },
    "id": "_uOYu9o9IrY2",
    "outputId": "ab511cf4-2ca9-495c-87c7-a126832a4d3f"
   },
   "outputs": [
    {
     "name": "stdout",
     "output_type": "stream",
     "text": [
      "University Name Gitam Place Hyd\n"
     ]
    }
   ],
   "source": [
    "name = \"Gitam\"\n",
    "address=\"Hyd\"\n",
    "print(\"University Name\",name,\"Place\",address)"
   ]
  },
  {
   "cell_type": "markdown",
   "metadata": {
    "colab_type": "text",
    "id": "B1Myb9i8KOhe"
   },
   "source": [
    "# Input Function."
   ]
  },
  {
   "cell_type": "code",
   "execution_count": 0,
   "metadata": {
    "colab": {
     "base_uri": "https://localhost:8080/",
     "height": 50
    },
    "colab_type": "code",
    "executionInfo": {
     "elapsed": 29393,
     "status": "ok",
     "timestamp": 1577161709891,
     "user": {
      "displayName": "G R Shanker Sai",
      "photoUrl": "https://lh4.googleusercontent.com/-_i6PcPXVm0o/AAAAAAAAAAI/AAAAAAAAS5I/izlyUWUxPcU/s64/photo.jpg",
      "userId": "03167456555271264625"
     },
     "user_tz": -330
    },
    "id": "dhIusfNzKSNI",
    "outputId": "4358b082-5bb3-44bc-8017-e6a0a214d2fe"
   },
   "outputs": [
    {
     "name": "stdout",
     "output_type": "stream",
     "text": [
      "Enter your namePython\n"
     ]
    },
    {
     "data": {
      "text/plain": [
       "'Python'"
      ]
     },
     "execution_count": 12,
     "metadata": {
      "tags": []
     },
     "output_type": "execute_result"
    }
   ],
   "source": [
    "input(\"Enter your name\")"
   ]
  },
  {
   "cell_type": "code",
   "execution_count": 0,
   "metadata": {
    "colab": {
     "base_uri": "https://localhost:8080/",
     "height": 50
    },
    "colab_type": "code",
    "executionInfo": {
     "elapsed": 4977,
     "status": "ok",
     "timestamp": 1577161887233,
     "user": {
      "displayName": "G R Shanker Sai",
      "photoUrl": "https://lh4.googleusercontent.com/-_i6PcPXVm0o/AAAAAAAAAAI/AAAAAAAAS5I/izlyUWUxPcU/s64/photo.jpg",
      "userId": "03167456555271264625"
     },
     "user_tz": -330
    },
    "id": "BidTpPfQKux7",
    "outputId": "95072525-3958-423f-f10c-46601dcd9e05"
   },
   "outputs": [
    {
     "name": "stdout",
     "output_type": "stream",
     "text": [
      "Enter a number..76\n"
     ]
    },
    {
     "data": {
      "text/plain": [
       "76"
      ]
     },
     "execution_count": 14,
     "metadata": {
      "tags": []
     },
     "output_type": "execute_result"
    }
   ],
   "source": [
    "n=int(input(\"Enter a number..\"))\n",
    "n"
   ]
  },
  {
   "cell_type": "markdown",
   "metadata": {
    "colab_type": "text",
    "id": "YrWwnRTjLQuE"
   },
   "source": [
    "# type function"
   ]
  },
  {
   "cell_type": "code",
   "execution_count": 0,
   "metadata": {
    "colab": {
     "base_uri": "https://localhost:8080/",
     "height": 34
    },
    "colab_type": "code",
    "executionInfo": {
     "elapsed": 1328,
     "status": "ok",
     "timestamp": 1577162438824,
     "user": {
      "displayName": "G R Shanker Sai",
      "photoUrl": "https://lh4.googleusercontent.com/-_i6PcPXVm0o/AAAAAAAAAAI/AAAAAAAAS5I/izlyUWUxPcU/s64/photo.jpg",
      "userId": "03167456555271264625"
     },
     "user_tz": -330
    },
    "id": "N98JFMk1LTHU",
    "outputId": "85ad0b5f-8280-4621-bc0b-dd28db8f4426"
   },
   "outputs": [
    {
     "name": "stdout",
     "output_type": "stream",
     "text": [
      "<class 'int'>\n"
     ]
    }
   ],
   "source": [
    "type(n)\n",
    "print(type(n))"
   ]
  },
  {
   "cell_type": "markdown",
   "metadata": {
    "colab_type": "text",
    "id": "XGgCgKGHMy3M"
   },
   "source": [
    "## Data types in python\n",
    "## 1.int\n",
    "## 2.float\n",
    "## 3. complex\n",
    "## 4. boolean\n",
    "## 5. string\n"
   ]
  },
  {
   "cell_type": "code",
   "execution_count": 0,
   "metadata": {
    "colab": {
     "base_uri": "https://localhost:8080/",
     "height": 34
    },
    "colab_type": "code",
    "executionInfo": {
     "elapsed": 1188,
     "status": "ok",
     "timestamp": 1577162597722,
     "user": {
      "displayName": "G R Shanker Sai",
      "photoUrl": "https://lh4.googleusercontent.com/-_i6PcPXVm0o/AAAAAAAAAAI/AAAAAAAAS5I/izlyUWUxPcU/s64/photo.jpg",
      "userId": "03167456555271264625"
     },
     "user_tz": -330
    },
    "id": "Er8ZSPxjM456",
    "outputId": "d908d6ed-5e08-46fd-c9c3-b3bd22bcc827"
   },
   "outputs": [
    {
     "name": "stdout",
     "output_type": "stream",
     "text": [
      "<class 'int'> <class 'float'> <class 'complex'>\n"
     ]
    }
   ],
   "source": [
    "x=10\n",
    "y=13.5\n",
    "z= 3+6j\n",
    "print(type(x),type(y),type(z))"
   ]
  },
  {
   "cell_type": "code",
   "execution_count": 0,
   "metadata": {
    "colab": {
     "base_uri": "https://localhost:8080/",
     "height": 67
    },
    "colab_type": "code",
    "executionInfo": {
     "elapsed": 1270,
     "status": "ok",
     "timestamp": 1577162833146,
     "user": {
      "displayName": "G R Shanker Sai",
      "photoUrl": "https://lh4.googleusercontent.com/-_i6PcPXVm0o/AAAAAAAAAAI/AAAAAAAAS5I/izlyUWUxPcU/s64/photo.jpg",
      "userId": "03167456555271264625"
     },
     "user_tz": -330
    },
    "id": "mXgYTZ5gOay4",
    "outputId": "b4f70fd2-c632-49ad-e615-ec90fffe434a"
   },
   "outputs": [
    {
     "name": "stdout",
     "output_type": "stream",
     "text": [
      "(13.5+0j)\n",
      "23.5\n",
      "(16.5+6j)\n"
     ]
    }
   ],
   "source": [
    "a=complex(y)\n",
    "print(a)\n",
    "print(x+y)\n",
    "print(y+z)\n"
   ]
  },
  {
   "cell_type": "code",
   "execution_count": 0,
   "metadata": {
    "colab": {
     "base_uri": "https://localhost:8080/",
     "height": 34
    },
    "colab_type": "code",
    "executionInfo": {
     "elapsed": 1463,
     "status": "ok",
     "timestamp": 1577162937716,
     "user": {
      "displayName": "G R Shanker Sai",
      "photoUrl": "https://lh4.googleusercontent.com/-_i6PcPXVm0o/AAAAAAAAAAI/AAAAAAAAS5I/izlyUWUxPcU/s64/photo.jpg",
      "userId": "03167456555271264625"
     },
     "user_tz": -330
    },
    "id": "obNrV8y3OxD3",
    "outputId": "fca81e31-54d1-458b-ae3d-814babd2a4ec"
   },
   "outputs": [
    {
     "name": "stdout",
     "output_type": "stream",
     "text": [
      "(3+4j)\n"
     ]
    }
   ],
   "source": [
    "c=complex(3,4)\n",
    "print(c)"
   ]
  },
  {
   "cell_type": "markdown",
   "metadata": {
    "colab_type": "text",
    "id": "2vZ57hjXPsvF"
   },
   "source": [
    "## Boolean data type\n",
    "### True\n",
    "### False"
   ]
  },
  {
   "cell_type": "markdown",
   "metadata": {
    "colab_type": "text",
    "id": "p3nvc20XQSmj"
   },
   "source": [
    "## strings"
   ]
  },
  {
   "cell_type": "code",
   "execution_count": 0,
   "metadata": {
    "colab": {
     "base_uri": "https://localhost:8080/",
     "height": 50
    },
    "colab_type": "code",
    "executionInfo": {
     "elapsed": 1370,
     "status": "ok",
     "timestamp": 1577163288007,
     "user": {
      "displayName": "G R Shanker Sai",
      "photoUrl": "https://lh4.googleusercontent.com/-_i6PcPXVm0o/AAAAAAAAAAI/AAAAAAAAS5I/izlyUWUxPcU/s64/photo.jpg",
      "userId": "03167456555271264625"
     },
     "user_tz": -330
    },
    "id": "dAWnNZbPPy_L",
    "outputId": "af512ecd-c703-4cfe-f97a-3c854673f048"
   },
   "outputs": [
    {
     "name": "stdout",
     "output_type": "stream",
     "text": [
      "<class 'str'>\n"
     ]
    },
    {
     "data": {
      "text/plain": [
       "str"
      ]
     },
     "execution_count": 23,
     "metadata": {
      "tags": []
     },
     "output_type": "execute_result"
    }
   ],
   "source": [
    "x=\"a\"\n",
    "y=\"Python\"\n",
    "print(type(x))\n",
    "type(y)"
   ]
  },
  {
   "cell_type": "code",
   "execution_count": 0,
   "metadata": {
    "colab": {
     "base_uri": "https://localhost:8080/",
     "height": 67
    },
    "colab_type": "code",
    "executionInfo": {
     "elapsed": 1308,
     "status": "ok",
     "timestamp": 1577163513605,
     "user": {
      "displayName": "G R Shanker Sai",
      "photoUrl": "https://lh4.googleusercontent.com/-_i6PcPXVm0o/AAAAAAAAAAI/AAAAAAAAS5I/izlyUWUxPcU/s64/photo.jpg",
      "userId": "03167456555271264625"
     },
     "user_tz": -330
    },
    "id": "9GU4qATNQvXk",
    "outputId": "025af47b-ee5a-40ad-f0e6-2458740ab4a3"
   },
   "outputs": [
    {
     "name": "stdout",
     "output_type": "stream",
     "text": [
      "<class 'int'>\n",
      "<class 'str'>\n",
      "<class 'float'>\n"
     ]
    }
   ],
   "source": [
    "i=100\n",
    "print(type(i))\n",
    "j=str(i)\n",
    "print(type(j))\n",
    "k=float(i)\n",
    "print(type(k))"
   ]
  },
  {
   "cell_type": "markdown",
   "metadata": {
    "colab_type": "text",
    "id": "ZX1-GN8wSlyE"
   },
   "source": [
    "## **Operators**\n",
    "### 1.Arithmetic operators: +,-,*,/,%,\"//\"-float division,\"**\" -power.\n",
    "### 2. Logical Operators : and , or ,not\n",
    "### 3. Relational Operators: <,<=,>,>=,==,!=\n",
    "### 4.Memebership operator: in & not in"
   ]
  },
  {
   "cell_type": "code",
   "execution_count": 0,
   "metadata": {
    "colab": {
     "base_uri": "https://localhost:8080/",
     "height": 118
    },
    "colab_type": "code",
    "executionInfo": {
     "elapsed": 1169,
     "status": "ok",
     "timestamp": 1577164639387,
     "user": {
      "displayName": "G R Shanker Sai",
      "photoUrl": "https://lh4.googleusercontent.com/-_i6PcPXVm0o/AAAAAAAAAAI/AAAAAAAAS5I/izlyUWUxPcU/s64/photo.jpg",
      "userId": "03167456555271264625"
     },
     "user_tz": -330
    },
    "id": "yL28qC8_TpQn",
    "outputId": "1e2c54e5-f568-485d-8090-719969bce7f9"
   },
   "outputs": [
    {
     "name": "stdout",
     "output_type": "stream",
     "text": [
      "8\n",
      "15\n",
      "0.6\n",
      "243\n",
      "0\n",
      "3\n"
     ]
    }
   ],
   "source": [
    "x=3\n",
    "y=5\n",
    "print(x+y)\n",
    "print(x*y)\n",
    "print(x/y)\n",
    "print(x**y)\n",
    "print(x//y)\n",
    "print(x%y)\n"
   ]
  },
  {
   "cell_type": "code",
   "execution_count": 0,
   "metadata": {
    "colab": {
     "base_uri": "https://localhost:8080/",
     "height": 84
    },
    "colab_type": "code",
    "executionInfo": {
     "elapsed": 1142,
     "status": "ok",
     "timestamp": 1577165003264,
     "user": {
      "displayName": "G R Shanker Sai",
      "photoUrl": "https://lh4.googleusercontent.com/-_i6PcPXVm0o/AAAAAAAAAAI/AAAAAAAAS5I/izlyUWUxPcU/s64/photo.jpg",
      "userId": "03167456555271264625"
     },
     "user_tz": -330
    },
    "id": "SmlhY4QlVp3z",
    "outputId": "9e4a3974-f46b-4398-c787-b926908bdb51"
   },
   "outputs": [
    {
     "name": "stdout",
     "output_type": "stream",
     "text": [
      "False\n",
      "True\n",
      "True\n",
      "False\n"
     ]
    }
   ],
   "source": [
    "## logical operators\n",
    "a=20 \n",
    "b=30\n",
    "print(a>=10 and a>=30)\n",
    "print(b>=10 and b<=40)\n",
    "print(a>=10 or a>=30)\n",
    "print(not a)"
   ]
  },
  {
   "cell_type": "code",
   "execution_count": 0,
   "metadata": {
    "colab": {
     "base_uri": "https://localhost:8080/",
     "height": 34
    },
    "colab_type": "code",
    "executionInfo": {
     "elapsed": 1178,
     "status": "ok",
     "timestamp": 1577165359229,
     "user": {
      "displayName": "G R Shanker Sai",
      "photoUrl": "https://lh4.googleusercontent.com/-_i6PcPXVm0o/AAAAAAAAAAI/AAAAAAAAS5I/izlyUWUxPcU/s64/photo.jpg",
      "userId": "03167456555271264625"
     },
     "user_tz": -330
    },
    "id": "MVzEgC7mYOWE",
    "outputId": "d4002015-3c0e-409a-f3fb-23328b189646"
   },
   "outputs": [
    {
     "name": "stdout",
     "output_type": "stream",
     "text": [
      "True\n"
     ]
    }
   ],
   "source": [
    "a=10\n",
    "b=20\n",
    "x=a<b\n",
    "print(x)"
   ]
  },
  {
   "cell_type": "code",
   "execution_count": 0,
   "metadata": {
    "colab": {
     "base_uri": "https://localhost:8080/",
     "height": 34
    },
    "colab_type": "code",
    "executionInfo": {
     "elapsed": 730,
     "status": "ok",
     "timestamp": 1577165361006,
     "user": {
      "displayName": "G R Shanker Sai",
      "photoUrl": "https://lh4.googleusercontent.com/-_i6PcPXVm0o/AAAAAAAAAAI/AAAAAAAAS5I/izlyUWUxPcU/s64/photo.jpg",
      "userId": "03167456555271264625"
     },
     "user_tz": -330
    },
    "id": "DpumThS9YUsm",
    "outputId": "51c0f27b-59c9-4377-bf5f-1f0209903093"
   },
   "outputs": [
    {
     "name": "stdout",
     "output_type": "stream",
     "text": [
      "False\n"
     ]
    }
   ],
   "source": [
    "print(not x)"
   ]
  },
  {
   "cell_type": "code",
   "execution_count": 0,
   "metadata": {
    "colab": {
     "base_uri": "https://localhost:8080/",
     "height": 118
    },
    "colab_type": "code",
    "executionInfo": {
     "elapsed": 1320,
     "status": "ok",
     "timestamp": 1577165512772,
     "user": {
      "displayName": "G R Shanker Sai",
      "photoUrl": "https://lh4.googleusercontent.com/-_i6PcPXVm0o/AAAAAAAAAAI/AAAAAAAAS5I/izlyUWUxPcU/s64/photo.jpg",
      "userId": "03167456555271264625"
     },
     "user_tz": -330
    },
    "id": "tSP2M5vmX2vE",
    "outputId": "23c7a7ab-eb54-42ce-893a-a9633b7f4114"
   },
   "outputs": [
    {
     "name": "stdout",
     "output_type": "stream",
     "text": [
      "False\n",
      "True\n",
      "False\n",
      "True\n",
      "False\n",
      "True\n"
     ]
    }
   ],
   "source": [
    "#Relational operators\n",
    "print(a>b)\n",
    "print(a<b)\n",
    "print(a>=b)\n",
    "print(a<=b)\n",
    "print(a==b)\n",
    "print(a!=b)\n",
    "\n",
    "\n"
   ]
  },
  {
   "cell_type": "code",
   "execution_count": 0,
   "metadata": {
    "colab": {
     "base_uri": "https://localhost:8080/",
     "height": 50
    },
    "colab_type": "code",
    "executionInfo": {
     "elapsed": 1413,
     "status": "ok",
     "timestamp": 1577165823927,
     "user": {
      "displayName": "G R Shanker Sai",
      "photoUrl": "https://lh4.googleusercontent.com/-_i6PcPXVm0o/AAAAAAAAAAI/AAAAAAAAS5I/izlyUWUxPcU/s64/photo.jpg",
      "userId": "03167456555271264625"
     },
     "user_tz": -330
    },
    "id": "bt8U-dEeZYOb",
    "outputId": "6760e692-e055-4926-9457-60e84b2bcc65"
   },
   "outputs": [
    {
     "name": "stdout",
     "output_type": "stream",
     "text": [
      "True\n",
      "False\n"
     ]
    }
   ],
   "source": [
    "# Membership operator\n",
    "str=\"abc\"\n",
    "print(\"c\"in str)\n",
    "print(\"c\"not in str)"
   ]
  },
  {
   "cell_type": "markdown",
   "metadata": {
    "colab_type": "text",
    "id": "PoBn8LCcaqdt"
   },
   "source": [
    "# conditional Statement\n",
    "## 1. if(Used for a single condition)\n",
    "### syntax:\n",
    "### if:\n",
    "###   statements \n",
    "## 2. else-if (When  we have 2 conditions.)\n",
    "### syntax;\n",
    "### if:\n",
    "###  statements;\n",
    "### else:\n",
    "###   statements;\n",
    "## 3. elif (multiple condition)"
   ]
  },
  {
   "cell_type": "code",
   "execution_count": 0,
   "metadata": {
    "colab": {
     "base_uri": "https://localhost:8080/",
     "height": 50
    },
    "colab_type": "code",
    "executionInfo": {
     "elapsed": 12925,
     "status": "ok",
     "timestamp": 1577166675365,
     "user": {
      "displayName": "G R Shanker Sai",
      "photoUrl": "https://lh4.googleusercontent.com/-_i6PcPXVm0o/AAAAAAAAAAI/AAAAAAAAS5I/izlyUWUxPcU/s64/photo.jpg",
      "userId": "03167456555271264625"
     },
     "user_tz": -330
    },
    "id": "MVU4wCtma_eS",
    "outputId": "c8f0cbff-21a6-4f64-d249-2a8d15d6bde6"
   },
   "outputs": [
    {
     "name": "stdout",
     "output_type": "stream",
     "text": [
      "Enter a number54\n",
      "Even number\n"
     ]
    }
   ],
   "source": [
    "# check for an odd number\n",
    "n=int(input(\"Enter a number\"))\n",
    "if n%2!=0:\n",
    "  print(\"Odd number\")\n",
    "else:\n",
    "  print(\"Even number\")\n"
   ]
  },
  {
   "cell_type": "code",
   "execution_count": 41,
   "metadata": {
    "colab": {
     "base_uri": "https://localhost:8080/",
     "height": 50
    },
    "colab_type": "code",
    "executionInfo": {
     "elapsed": 10214,
     "status": "ok",
     "timestamp": 1577167688465,
     "user": {
      "displayName": "G R Shanker Sai",
      "photoUrl": "https://lh4.googleusercontent.com/-_i6PcPXVm0o/AAAAAAAAAAI/AAAAAAAAS5I/izlyUWUxPcU/s64/photo.jpg",
      "userId": "03167456555271264625"
     },
     "user_tz": -330
    },
    "id": "9OulSTcIddaF",
    "outputId": "02602d83-ed08-479d-ab80-6359f11f93d9"
   },
   "outputs": [
    {
     "name": "stdout",
     "output_type": "stream",
     "text": [
      "Enter a number25\n",
      "NO..!\n"
     ]
    }
   ],
   "source": [
    "n=int(input(\"Enter a number\"))\n",
    "if n%3==0 and n%5==0:\n",
    "  print(\"yes..!\")\n",
    "else:\n",
    "  print(\"NO..!\")\n"
   ]
  },
  {
   "cell_type": "code",
   "execution_count": 44,
   "metadata": {
    "colab": {
     "base_uri": "https://localhost:8080/",
     "height": 50
    },
    "colab_type": "code",
    "executionInfo": {
     "elapsed": 4863,
     "status": "ok",
     "timestamp": 1577167803889,
     "user": {
      "displayName": "G R Shanker Sai",
      "photoUrl": "https://lh4.googleusercontent.com/-_i6PcPXVm0o/AAAAAAAAAAI/AAAAAAAAS5I/izlyUWUxPcU/s64/photo.jpg",
      "userId": "03167456555271264625"
     },
     "user_tz": -330
    },
    "id": "FGol8RlTg13t",
    "outputId": "6dc40f5a-32cb-4f52-f3f9-b221c1725d2a"
   },
   "outputs": [
    {
     "name": "stdout",
     "output_type": "stream",
     "text": [
      "Enter a number-325\n",
      "Negative\n"
     ]
    }
   ],
   "source": [
    "n=int(input(\"Enter a number\"))\n",
    "if n>0:\n",
    "  print(\"Positive\")\n",
    "elif n==0:\n",
    "  print(\"0\")\n",
    "elif n<0:\n",
    "  print(\"Negative\")\n",
    "\n"
   ]
  },
  {
   "cell_type": "code",
   "execution_count": 45,
   "metadata": {
    "colab": {
     "base_uri": "https://localhost:8080/",
     "height": 84
    },
    "colab_type": "code",
    "executionInfo": {
     "elapsed": 14754,
     "status": "ok",
     "timestamp": 1577168294518,
     "user": {
      "displayName": "G R Shanker Sai",
      "photoUrl": "https://lh4.googleusercontent.com/-_i6PcPXVm0o/AAAAAAAAAAI/AAAAAAAAS5I/izlyUWUxPcU/s64/photo.jpg",
      "userId": "03167456555271264625"
     },
     "user_tz": -330
    },
    "id": "2YtXxczTitzv",
    "outputId": "8c498e87-f8a4-4245-85c2-68ba449e8ca1"
   },
   "outputs": [
    {
     "name": "stdout",
     "output_type": "stream",
     "text": [
      "Enter a number12\n",
      "Enter a number56\n",
      "Enter a number22\n",
      "56 is Greater\n"
     ]
    }
   ],
   "source": [
    "a=int(input(\"Enter a number\"))\n",
    "b=int(input(\"Enter a number\"))\n",
    "c=int(input(\"Enter a number\"))\n",
    "if a>b and a>c:\n",
    "  print(a,\"is Greater\")\n",
    "elif b>a and b>c:\n",
    "  print(b,\"is Greater\")\n",
    "elif c>a and c>b:\n",
    "  print(c,\"is Greater\")    "
   ]
  },
  {
   "cell_type": "code",
   "execution_count": 49,
   "metadata": {
    "colab": {
     "base_uri": "https://localhost:8080/",
     "height": 50
    },
    "colab_type": "code",
    "executionInfo": {
     "elapsed": 7589,
     "status": "ok",
     "timestamp": 1577168809542,
     "user": {
      "displayName": "G R Shanker Sai",
      "photoUrl": "https://lh4.googleusercontent.com/-_i6PcPXVm0o/AAAAAAAAAAI/AAAAAAAAS5I/izlyUWUxPcU/s64/photo.jpg",
      "userId": "03167456555271264625"
     },
     "user_tz": -330
    },
    "id": "di3t88-GjuG3",
    "outputId": "a9d47809-11b2-4224-e156-b130671a4159"
   },
   "outputs": [
    {
     "name": "stdout",
     "output_type": "stream",
     "text": [
      "Enter a year1500\n",
      "n ot leap\n"
     ]
    }
   ],
   "source": [
    "n=int(input(\"Enter a year\"))\n",
    "if n%400==0 or (n%4==0 and n%100!=0):\n",
    "  print(\"Leap year\")\n",
    "\n",
    "#elif :\n",
    " # print(\"leap\")\n",
    "else:\n",
    "  print(\"n ot leap\")\n"
   ]
  }
 ],
 "metadata": {
  "colab": {
   "collapsed_sections": [],
   "name": "Day1.ipynb",
   "provenance": []
  },
  "kernelspec": {
   "display_name": "Python 3",
   "language": "python",
   "name": "python3"
  },
  "language_info": {
   "codemirror_mode": {
    "name": "ipython",
    "version": 3
   },
   "file_extension": ".py",
   "mimetype": "text/x-python",
   "name": "python",
   "nbconvert_exporter": "python",
   "pygments_lexer": "ipython3",
   "version": "3.7.3"
  }
 },
 "nbformat": 4,
 "nbformat_minor": 1
}
