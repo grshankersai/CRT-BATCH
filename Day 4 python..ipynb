{
 "cells": [
  {
   "cell_type": "code",
   "execution_count": 2,
   "metadata": {},
   "outputs": [
    {
     "name": "stdout",
     "output_type": "stream",
     "text": [
      "PYTHON\n",
      "python\n"
     ]
    }
   ],
   "source": [
    "s = \"Python\"\n",
    "print(s.upper()) # converts string TO Upper case\n",
    "print(s.lower()) # converts string to lower case.\n"
   ]
  },
  {
   "cell_type": "code",
   "execution_count": 6,
   "metadata": {},
   "outputs": [
    {
     "name": "stdout",
     "output_type": "stream",
     "text": [
      "Python\n",
      "False\n",
      "False\n"
     ]
    }
   ],
   "source": [
    "# String boolean methods\n",
    "print(s)\n",
    "print(s.islower())\n",
    "print(s.isupper())"
   ]
  },
  {
   "cell_type": "code",
   "execution_count": 8,
   "metadata": {},
   "outputs": [
    {
     "name": "stdout",
     "output_type": "stream",
     "text": [
      "True\n",
      "False\n"
     ]
    }
   ],
   "source": [
    "# istitle methods\n",
    "s1= \"Python Programming\"\n",
    "s2= \"python Programming\"\n",
    "print(s1.istitle())\n",
    "print(s2.istitle())"
   ]
  },
  {
   "cell_type": "code",
   "execution_count": 10,
   "metadata": {},
   "outputs": [
    {
     "name": "stdout",
     "output_type": "stream",
     "text": [
      "False\n",
      "True\n"
     ]
    }
   ],
   "source": [
    "# isnumeric() function to check if the string contains numbers.\n",
    "s3=\"Py123\"\n",
    "s4=\"1234\"\n",
    "print(s3.isnumeric())\n",
    "print(s4.isnumeric())"
   ]
  },
  {
   "cell_type": "code",
   "execution_count": 12,
   "metadata": {},
   "outputs": [
    {
     "name": "stdout",
     "output_type": "stream",
     "text": [
      "True\n",
      "False\n"
     ]
    }
   ],
   "source": [
    "# isalpha()\n",
    "s5=\"Python\"\n",
    "#s6=\"Py123\"\n",
    "print(s5.isalpha())\n",
    "print(s4.isalpha())"
   ]
  },
  {
   "cell_type": "code",
   "execution_count": 14,
   "metadata": {},
   "outputs": [
    {
     "name": "stdout",
     "output_type": "stream",
     "text": [
      "True\n",
      "False\n"
     ]
    }
   ],
   "source": [
    "#isspace()\n",
    "s=\" \"\n",
    "s6=\"py th on\"\n",
    "print(s.isspace())\n",
    "print(s6.isspace())"
   ]
  },
  {
   "cell_type": "code",
   "execution_count": 23,
   "metadata": {},
   "outputs": [
    {
     "data": {
      "text/plain": [
       "[1, 3, 5, 4, 2]"
      ]
     },
     "execution_count": 23,
     "metadata": {},
     "output_type": "execute_result"
    }
   ],
   "source": [
    "# function to convert number into a list:\n",
    "# input: 18976\n",
    "# output:[1,8,9,7,6]\n",
    "\n",
    "def NumberListConversion(n):\n",
    "    l=[]\n",
    "    while(n!=0):\n",
    "        i = n%10\n",
    "        l.append(i)\n",
    "        n=n//10\n",
    "        l.reverse()\n",
    "    return l\n",
    "NumberListConversion(12345)\n",
    "        \n",
    "\n",
    "\n",
    "        \n",
    "        "
   ]
  },
  {
   "cell_type": "code",
   "execution_count": 34,
   "metadata": {},
   "outputs": [
    {
     "data": {
      "text/plain": [
       "[1, 2, 3, 4, 6, 12]"
      ]
     },
     "execution_count": 34,
     "metadata": {},
     "output_type": "execute_result"
    }
   ],
   "source": [
    "#Write a function to check the factors of the no:\n",
    "# input: 12\n",
    "# output:1,2,3,4,6,12.\n",
    "li = []\n",
    "def Factors(n):\n",
    "    for i in range(1,n+1):\n",
    "        if(n%i==0):\n",
    "            #print(i,end=\" \")\n",
    "            li.append(i)\n",
    "Factors(12)\n",
    "li\n",
    "            \n"
   ]
  },
  {
   "cell_type": "code",
   "execution_count": 42,
   "metadata": {},
   "outputs": [
    {
     "name": "stdout",
     "output_type": "stream",
     "text": [
      "500 502 504 506 508 510 512 514 516 518 520 "
     ]
    }
   ],
   "source": [
    "#input : 500,520\n",
    "#output: 500,502,.........520.\n",
    "def Range(a,b):\n",
    "    for i in range(a,b+1,2):\n",
    "        print(i,end=\" \")\n",
    "Range(500,520)\n",
    "    "
   ]
  },
  {
   "cell_type": "code",
   "execution_count": 47,
   "metadata": {},
   "outputs": [
    {
     "name": "stdout",
     "output_type": "stream",
     "text": [
      "['P', 'y', 't', 'h', 'o', 'n']\n"
     ]
    }
   ],
   "source": [
    "def sample(str):\n",
    "    str=\" \".join(str)\n",
    "    print(str.split())\n",
    "    \n",
    "sample(\"Python\")"
   ]
  },
  {
   "cell_type": "code",
   "execution_count": 3,
   "metadata": {},
   "outputs": [
    {
     "name": "stdout",
     "output_type": "stream",
     "text": [
      "Enter the number146\n",
      "No\n"
     ]
    }
   ],
   "source": [
    "# 145\n",
    "\n",
    "def fact(n):\n",
    "    facto=1\n",
    "    for i in range(1,n+1):\n",
    "        facto=facto*i\n",
    "    return facto\n",
    "\n",
    "\n",
    "\n",
    "sum=0\n",
    "\n",
    "n=int(input(\"Enter the number\"))\n",
    "y=n\n",
    "    \n",
    "while(n!=0):\n",
    "    r=n%10\n",
    "    sum=sum+fact(r)\n",
    "    n=n//10\n",
    "    \n",
    "    \n",
    "if(y == sum):\n",
    "    print(\"YEs \")\n",
    "else:\n",
    "    print(\"No\")\n",
    "\n",
    "\n",
    "\n",
    "\n",
    "\n",
    "    \n",
    "\n",
    "    "
   ]
  },
  {
   "cell_type": "code",
   "execution_count": null,
   "metadata": {},
   "outputs": [],
   "source": []
  }
 ],
 "metadata": {
  "kernelspec": {
   "display_name": "Python 3",
   "language": "python",
   "name": "python3"
  },
  "language_info": {
   "codemirror_mode": {
    "name": "ipython",
    "version": 3
   },
   "file_extension": ".py",
   "mimetype": "text/x-python",
   "name": "python",
   "nbconvert_exporter": "python",
   "pygments_lexer": "ipython3",
   "version": "3.7.3"
  }
 },
 "nbformat": 4,
 "nbformat_minor": 2
}
